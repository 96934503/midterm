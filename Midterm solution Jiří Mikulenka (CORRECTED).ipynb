{
 "cells": [
  {
   "cell_type": "code",
   "execution_count": 1,
   "id": "1c2f1fe8",
   "metadata": {},
   "outputs": [],
   "source": [
    "# Import packages\n",
    "import pandas as pd\n",
    "from matplotlib import pyplot as plt\n",
    "import numpy as np\n",
    "import zipfile"
   ]
  },
  {
   "cell_type": "markdown",
   "id": "eb4fca14",
   "metadata": {},
   "source": [
    "## 1. Loading data and creating a dataset"
   ]
  },
  {
   "cell_type": "code",
   "execution_count": 3,
   "id": "1f7dc5cb",
   "metadata": {},
   "outputs": [],
   "source": [
    "# Load each dataset\n",
    "df_1 = pd.read_csv(\"C.csv\")\n",
    "df_2 = pd.read_csv(\"HES.csv\")\n",
    "df_3 = pd.read_csv(\"INTC.csv\")\n",
    "df_4 = pd.read_csv(\"MCHP.csv\")"
   ]
  },
  {
   "cell_type": "code",
   "execution_count": 5,
   "id": "4cdd59f9",
   "metadata": {},
   "outputs": [
    {
     "data": {
      "text/html": [
       "<div>\n",
       "<style scoped>\n",
       "    .dataframe tbody tr th:only-of-type {\n",
       "        vertical-align: middle;\n",
       "    }\n",
       "\n",
       "    .dataframe tbody tr th {\n",
       "        vertical-align: top;\n",
       "    }\n",
       "\n",
       "    .dataframe thead th {\n",
       "        text-align: right;\n",
       "    }\n",
       "</style>\n",
       "<table border=\"1\" class=\"dataframe\">\n",
       "  <thead>\n",
       "    <tr style=\"text-align: right;\">\n",
       "      <th></th>\n",
       "      <th>Date</th>\n",
       "      <th>High</th>\n",
       "      <th>Low</th>\n",
       "      <th>Open</th>\n",
       "      <th>Close</th>\n",
       "      <th>Volume</th>\n",
       "      <th>Adj Close</th>\n",
       "      <th>name</th>\n",
       "    </tr>\n",
       "  </thead>\n",
       "  <tbody>\n",
       "    <tr>\n",
       "      <th>0</th>\n",
       "      <td>2017-11-13</td>\n",
       "      <td>72.150002</td>\n",
       "      <td>71.480003</td>\n",
       "      <td>71.669998</td>\n",
       "      <td>71.989998</td>\n",
       "      <td>13500600.0</td>\n",
       "      <td>63.376659</td>\n",
       "      <td>C</td>\n",
       "    </tr>\n",
       "    <tr>\n",
       "      <th>1</th>\n",
       "      <td>2017-11-14</td>\n",
       "      <td>71.809998</td>\n",
       "      <td>71.040001</td>\n",
       "      <td>71.650002</td>\n",
       "      <td>71.529999</td>\n",
       "      <td>13188900.0</td>\n",
       "      <td>62.971699</td>\n",
       "      <td>C</td>\n",
       "    </tr>\n",
       "    <tr>\n",
       "      <th>2</th>\n",
       "      <td>2017-11-15</td>\n",
       "      <td>72.070000</td>\n",
       "      <td>70.019997</td>\n",
       "      <td>70.620003</td>\n",
       "      <td>71.730003</td>\n",
       "      <td>17541800.0</td>\n",
       "      <td>63.147797</td>\n",
       "      <td>C</td>\n",
       "    </tr>\n",
       "  </tbody>\n",
       "</table>\n",
       "</div>"
      ],
      "text/plain": [
       "         Date       High        Low       Open      Close      Volume  \\\n",
       "0  2017-11-13  72.150002  71.480003  71.669998  71.989998  13500600.0   \n",
       "1  2017-11-14  71.809998  71.040001  71.650002  71.529999  13188900.0   \n",
       "2  2017-11-15  72.070000  70.019997  70.620003  71.730003  17541800.0   \n",
       "\n",
       "   Adj Close name  \n",
       "0  63.376659    C  \n",
       "1  62.971699    C  \n",
       "2  63.147797    C  "
      ]
     },
     "execution_count": 5,
     "metadata": {},
     "output_type": "execute_result"
    }
   ],
   "source": [
    "# Add a name column with corresponding name to each\n",
    "df_1[\"name\"] = \"C\"\n",
    "df_2[\"name\"] = \"HES\"\n",
    "df_3[\"name\"] = \"INTC\"\n",
    "df_4[\"name\"] = \"MCHP\"\n",
    "\n",
    "# heck the result\n",
    "df_1.head(3)"
   ]
  },
  {
   "cell_type": "code",
   "execution_count": 6,
   "id": "e0665e0f",
   "metadata": {},
   "outputs": [
    {
     "data": {
      "text/html": [
       "<div>\n",
       "<style scoped>\n",
       "    .dataframe tbody tr th:only-of-type {\n",
       "        vertical-align: middle;\n",
       "    }\n",
       "\n",
       "    .dataframe tbody tr th {\n",
       "        vertical-align: top;\n",
       "    }\n",
       "\n",
       "    .dataframe thead th {\n",
       "        text-align: right;\n",
       "    }\n",
       "</style>\n",
       "<table border=\"1\" class=\"dataframe\">\n",
       "  <thead>\n",
       "    <tr style=\"text-align: right;\">\n",
       "      <th></th>\n",
       "      <th>Date</th>\n",
       "      <th>High</th>\n",
       "      <th>Low</th>\n",
       "      <th>Open</th>\n",
       "      <th>Close</th>\n",
       "      <th>Volume</th>\n",
       "      <th>Adj Close</th>\n",
       "      <th>name</th>\n",
       "    </tr>\n",
       "  </thead>\n",
       "  <tbody>\n",
       "    <tr>\n",
       "      <th>0</th>\n",
       "      <td>2017-11-13</td>\n",
       "      <td>72.150002</td>\n",
       "      <td>71.480003</td>\n",
       "      <td>71.669998</td>\n",
       "      <td>71.989998</td>\n",
       "      <td>13500600.0</td>\n",
       "      <td>63.376659</td>\n",
       "      <td>C</td>\n",
       "    </tr>\n",
       "    <tr>\n",
       "      <th>1</th>\n",
       "      <td>2017-11-14</td>\n",
       "      <td>71.809998</td>\n",
       "      <td>71.040001</td>\n",
       "      <td>71.650002</td>\n",
       "      <td>71.529999</td>\n",
       "      <td>13188900.0</td>\n",
       "      <td>62.971699</td>\n",
       "      <td>C</td>\n",
       "    </tr>\n",
       "    <tr>\n",
       "      <th>2</th>\n",
       "      <td>2017-11-15</td>\n",
       "      <td>72.070000</td>\n",
       "      <td>70.019997</td>\n",
       "      <td>70.620003</td>\n",
       "      <td>71.730003</td>\n",
       "      <td>17541800.0</td>\n",
       "      <td>63.147797</td>\n",
       "      <td>C</td>\n",
       "    </tr>\n",
       "    <tr>\n",
       "      <th>3</th>\n",
       "      <td>2017-11-16</td>\n",
       "      <td>72.320000</td>\n",
       "      <td>71.510002</td>\n",
       "      <td>72.110001</td>\n",
       "      <td>71.669998</td>\n",
       "      <td>12415600.0</td>\n",
       "      <td>63.094948</td>\n",
       "      <td>C</td>\n",
       "    </tr>\n",
       "    <tr>\n",
       "      <th>4</th>\n",
       "      <td>2017-11-17</td>\n",
       "      <td>71.830002</td>\n",
       "      <td>70.940002</td>\n",
       "      <td>71.160004</td>\n",
       "      <td>71.330002</td>\n",
       "      <td>11813000.0</td>\n",
       "      <td>62.795628</td>\n",
       "      <td>C</td>\n",
       "    </tr>\n",
       "  </tbody>\n",
       "</table>\n",
       "</div>"
      ],
      "text/plain": [
       "         Date       High        Low       Open      Close      Volume  \\\n",
       "0  2017-11-13  72.150002  71.480003  71.669998  71.989998  13500600.0   \n",
       "1  2017-11-14  71.809998  71.040001  71.650002  71.529999  13188900.0   \n",
       "2  2017-11-15  72.070000  70.019997  70.620003  71.730003  17541800.0   \n",
       "3  2017-11-16  72.320000  71.510002  72.110001  71.669998  12415600.0   \n",
       "4  2017-11-17  71.830002  70.940002  71.160004  71.330002  11813000.0   \n",
       "\n",
       "   Adj Close name  \n",
       "0  63.376659    C  \n",
       "1  62.971699    C  \n",
       "2  63.147797    C  \n",
       "3  63.094948    C  \n",
       "4  62.795628    C  "
      ]
     },
     "execution_count": 6,
     "metadata": {},
     "output_type": "execute_result"
    }
   ],
   "source": [
    "# Concatenate the datasets into one:\n",
    "stock_df = pd.concat([df_1, df_2, df_3, df_4], axis = 0, ignore_index = True)\n",
    "\n",
    "# check the dataset\n",
    "stock_df.head()"
   ]
  },
  {
   "cell_type": "code",
   "execution_count": 7,
   "id": "5d6727b4",
   "metadata": {},
   "outputs": [
    {
     "name": "stdout",
     "output_type": "stream",
     "text": [
      "<class 'pandas.core.frame.DataFrame'>\n",
      "RangeIndex: 5036 entries, 0 to 5035\n",
      "Data columns (total 8 columns):\n",
      " #   Column     Non-Null Count  Dtype  \n",
      "---  ------     --------------  -----  \n",
      " 0   Date       5036 non-null   object \n",
      " 1   High       5036 non-null   float64\n",
      " 2   Low        5036 non-null   float64\n",
      " 3   Open       5036 non-null   float64\n",
      " 4   Close      5036 non-null   float64\n",
      " 5   Volume     5036 non-null   float64\n",
      " 6   Adj Close  5036 non-null   float64\n",
      " 7   name       5036 non-null   object \n",
      "dtypes: float64(6), object(2)\n",
      "memory usage: 314.9+ KB\n"
     ]
    }
   ],
   "source": [
    "# check the structure of the data\n",
    "stock_df.info()"
   ]
  },
  {
   "cell_type": "code",
   "execution_count": null,
   "id": "12868949",
   "metadata": {},
   "outputs": [],
   "source": [
    "# What are the column names?\n",
    "stock_df.columns"
   ]
  },
  {
   "cell_type": "code",
   "execution_count": 8,
   "id": "b437db65",
   "metadata": {},
   "outputs": [
    {
     "data": {
      "text/plain": [
       "str"
      ]
     },
     "execution_count": 8,
     "metadata": {},
     "output_type": "execute_result"
    }
   ],
   "source": [
    "# check the type of date -> need to convert it into DateTime\n",
    "type(stock_df[\"Date\"][0])"
   ]
  },
  {
   "cell_type": "code",
   "execution_count": 10,
   "id": "f4e16de3",
   "metadata": {},
   "outputs": [
    {
     "data": {
      "text/plain": [
       "pandas._libs.tslibs.timestamps.Timestamp"
      ]
     },
     "execution_count": 10,
     "metadata": {},
     "output_type": "execute_result"
    }
   ],
   "source": [
    "# Convert the Date column to DateTime format\n",
    "stock_df[\"Date\"] = pd.to_datetime(stock_df[\"Date\"], format = \"%Y-%m-%d\")\n",
    "\n",
    "# Check the datatype -> good\n",
    "type(stock_df[\"Date\"][1])"
   ]
  },
  {
   "cell_type": "code",
   "execution_count": 12,
   "id": "88c4a8db",
   "metadata": {},
   "outputs": [
    {
     "ename": "KeyError",
     "evalue": "\"None of ['Date'] are in the columns\"",
     "output_type": "error",
     "traceback": [
      "\u001b[1;31m---------------------------------------------------------------------------\u001b[0m",
      "\u001b[1;31mKeyError\u001b[0m                                  Traceback (most recent call last)",
      "Cell \u001b[1;32mIn[12], line 2\u001b[0m\n\u001b[0;32m      1\u001b[0m \u001b[38;5;66;03m# Set the date column as index\u001b[39;00m\n\u001b[1;32m----> 2\u001b[0m stock_df\u001b[38;5;241m.\u001b[39mset_index(\u001b[38;5;124m\"\u001b[39m\u001b[38;5;124mDate\u001b[39m\u001b[38;5;124m\"\u001b[39m, inplace \u001b[38;5;241m=\u001b[39m \u001b[38;5;28;01mTrue\u001b[39;00m)\n\u001b[0;32m      4\u001b[0m stock_df\u001b[38;5;241m.\u001b[39mhead(\u001b[38;5;241m3\u001b[39m)\n",
      "File \u001b[1;32m~\\anaconda3\\Lib\\site-packages\\pandas\\core\\frame.py:5859\u001b[0m, in \u001b[0;36mDataFrame.set_index\u001b[1;34m(self, keys, drop, append, inplace, verify_integrity)\u001b[0m\n\u001b[0;32m   5856\u001b[0m                 missing\u001b[38;5;241m.\u001b[39mappend(col)\n\u001b[0;32m   5858\u001b[0m \u001b[38;5;28;01mif\u001b[39;00m missing:\n\u001b[1;32m-> 5859\u001b[0m     \u001b[38;5;28;01mraise\u001b[39;00m \u001b[38;5;167;01mKeyError\u001b[39;00m(\u001b[38;5;124mf\u001b[39m\u001b[38;5;124m\"\u001b[39m\u001b[38;5;124mNone of \u001b[39m\u001b[38;5;132;01m{\u001b[39;00mmissing\u001b[38;5;132;01m}\u001b[39;00m\u001b[38;5;124m are in the columns\u001b[39m\u001b[38;5;124m\"\u001b[39m)\n\u001b[0;32m   5861\u001b[0m \u001b[38;5;28;01mif\u001b[39;00m inplace:\n\u001b[0;32m   5862\u001b[0m     frame \u001b[38;5;241m=\u001b[39m \u001b[38;5;28mself\u001b[39m\n",
      "\u001b[1;31mKeyError\u001b[0m: \"None of ['Date'] are in the columns\""
     ]
    }
   ],
   "source": [
    "# Set the date column as index\n",
    "stock_df.set_index(\"Date\", inplace = True)"
   ]
  },
  {
   "cell_type": "code",
   "execution_count": 13,
   "id": "ee48160c",
   "metadata": {},
   "outputs": [
    {
     "data": {
      "text/html": [
       "<div>\n",
       "<style scoped>\n",
       "    .dataframe tbody tr th:only-of-type {\n",
       "        vertical-align: middle;\n",
       "    }\n",
       "\n",
       "    .dataframe tbody tr th {\n",
       "        vertical-align: top;\n",
       "    }\n",
       "\n",
       "    .dataframe thead th {\n",
       "        text-align: right;\n",
       "    }\n",
       "</style>\n",
       "<table border=\"1\" class=\"dataframe\">\n",
       "  <thead>\n",
       "    <tr style=\"text-align: right;\">\n",
       "      <th></th>\n",
       "      <th>High</th>\n",
       "      <th>Low</th>\n",
       "      <th>Open</th>\n",
       "      <th>Close</th>\n",
       "      <th>Volume</th>\n",
       "      <th>Adj Close</th>\n",
       "      <th>name</th>\n",
       "    </tr>\n",
       "    <tr>\n",
       "      <th>Date</th>\n",
       "      <th></th>\n",
       "      <th></th>\n",
       "      <th></th>\n",
       "      <th></th>\n",
       "      <th></th>\n",
       "      <th></th>\n",
       "      <th></th>\n",
       "    </tr>\n",
       "  </thead>\n",
       "  <tbody>\n",
       "    <tr>\n",
       "      <th>2017-11-13</th>\n",
       "      <td>72.150002</td>\n",
       "      <td>71.480003</td>\n",
       "      <td>71.669998</td>\n",
       "      <td>71.989998</td>\n",
       "      <td>13500600.0</td>\n",
       "      <td>63.376659</td>\n",
       "      <td>C</td>\n",
       "    </tr>\n",
       "    <tr>\n",
       "      <th>2017-11-14</th>\n",
       "      <td>71.809998</td>\n",
       "      <td>71.040001</td>\n",
       "      <td>71.650002</td>\n",
       "      <td>71.529999</td>\n",
       "      <td>13188900.0</td>\n",
       "      <td>62.971699</td>\n",
       "      <td>C</td>\n",
       "    </tr>\n",
       "    <tr>\n",
       "      <th>2017-11-15</th>\n",
       "      <td>72.070000</td>\n",
       "      <td>70.019997</td>\n",
       "      <td>70.620003</td>\n",
       "      <td>71.730003</td>\n",
       "      <td>17541800.0</td>\n",
       "      <td>63.147797</td>\n",
       "      <td>C</td>\n",
       "    </tr>\n",
       "  </tbody>\n",
       "</table>\n",
       "</div>"
      ],
      "text/plain": [
       "                 High        Low       Open      Close      Volume  Adj Close  \\\n",
       "Date                                                                            \n",
       "2017-11-13  72.150002  71.480003  71.669998  71.989998  13500600.0  63.376659   \n",
       "2017-11-14  71.809998  71.040001  71.650002  71.529999  13188900.0  62.971699   \n",
       "2017-11-15  72.070000  70.019997  70.620003  71.730003  17541800.0  63.147797   \n",
       "\n",
       "           name  \n",
       "Date             \n",
       "2017-11-13    C  \n",
       "2017-11-14    C  \n",
       "2017-11-15    C  "
      ]
     },
     "execution_count": 13,
     "metadata": {},
     "output_type": "execute_result"
    }
   ],
   "source": [
    "# Check\n",
    "stock_df.head(3) # Date as Index"
   ]
  },
  {
   "cell_type": "code",
   "execution_count": 14,
   "id": "bb46f140",
   "metadata": {},
   "outputs": [
    {
     "data": {
      "text/html": [
       "<div>\n",
       "<style scoped>\n",
       "    .dataframe tbody tr th:only-of-type {\n",
       "        vertical-align: middle;\n",
       "    }\n",
       "\n",
       "    .dataframe tbody tr th {\n",
       "        vertical-align: top;\n",
       "    }\n",
       "\n",
       "    .dataframe thead th {\n",
       "        text-align: right;\n",
       "    }\n",
       "</style>\n",
       "<table border=\"1\" class=\"dataframe\">\n",
       "  <thead>\n",
       "    <tr style=\"text-align: right;\">\n",
       "      <th></th>\n",
       "      <th>High</th>\n",
       "      <th>Low</th>\n",
       "      <th>Open</th>\n",
       "      <th>Close</th>\n",
       "      <th>Volume</th>\n",
       "      <th>Adj Close</th>\n",
       "      <th>name</th>\n",
       "    </tr>\n",
       "    <tr>\n",
       "      <th>Date</th>\n",
       "      <th></th>\n",
       "      <th></th>\n",
       "      <th></th>\n",
       "      <th></th>\n",
       "      <th></th>\n",
       "      <th></th>\n",
       "      <th></th>\n",
       "    </tr>\n",
       "  </thead>\n",
       "  <tbody>\n",
       "    <tr>\n",
       "      <th>2017-11-13</th>\n",
       "      <td>72.150002</td>\n",
       "      <td>71.480003</td>\n",
       "      <td>71.669998</td>\n",
       "      <td>71.989998</td>\n",
       "      <td>13500600.0</td>\n",
       "      <td>63.376659</td>\n",
       "      <td>C</td>\n",
       "    </tr>\n",
       "    <tr>\n",
       "      <th>2017-11-13</th>\n",
       "      <td>45.939999</td>\n",
       "      <td>45.250000</td>\n",
       "      <td>45.259998</td>\n",
       "      <td>45.750000</td>\n",
       "      <td>18999000.0</td>\n",
       "      <td>41.969551</td>\n",
       "      <td>INTC</td>\n",
       "    </tr>\n",
       "    <tr>\n",
       "      <th>2017-11-13</th>\n",
       "      <td>46.900002</td>\n",
       "      <td>45.889999</td>\n",
       "      <td>46.849998</td>\n",
       "      <td>46.590000</td>\n",
       "      <td>3540600.0</td>\n",
       "      <td>43.165344</td>\n",
       "      <td>HES</td>\n",
       "    </tr>\n",
       "  </tbody>\n",
       "</table>\n",
       "</div>"
      ],
      "text/plain": [
       "                 High        Low       Open      Close      Volume  Adj Close  \\\n",
       "Date                                                                            \n",
       "2017-11-13  72.150002  71.480003  71.669998  71.989998  13500600.0  63.376659   \n",
       "2017-11-13  45.939999  45.250000  45.259998  45.750000  18999000.0  41.969551   \n",
       "2017-11-13  46.900002  45.889999  46.849998  46.590000   3540600.0  43.165344   \n",
       "\n",
       "            name  \n",
       "Date              \n",
       "2017-11-13     C  \n",
       "2017-11-13  INTC  \n",
       "2017-11-13   HES  "
      ]
     },
     "execution_count": 14,
     "metadata": {},
     "output_type": "execute_result"
    }
   ],
   "source": [
    "# Sort by date inplace\n",
    "stock_df.sort_index(ascending = True, inplace = True)\n",
    "\n",
    "# Check head\n",
    "stock_df.head(3)"
   ]
  },
  {
   "cell_type": "code",
   "execution_count": 15,
   "id": "01811b84",
   "metadata": {},
   "outputs": [
    {
     "data": {
      "text/html": [
       "<div>\n",
       "<style scoped>\n",
       "    .dataframe tbody tr th:only-of-type {\n",
       "        vertical-align: middle;\n",
       "    }\n",
       "\n",
       "    .dataframe tbody tr th {\n",
       "        vertical-align: top;\n",
       "    }\n",
       "\n",
       "    .dataframe thead th {\n",
       "        text-align: right;\n",
       "    }\n",
       "</style>\n",
       "<table border=\"1\" class=\"dataframe\">\n",
       "  <thead>\n",
       "    <tr style=\"text-align: right;\">\n",
       "      <th></th>\n",
       "      <th>High</th>\n",
       "      <th>Low</th>\n",
       "      <th>Open</th>\n",
       "      <th>Close</th>\n",
       "      <th>Volume</th>\n",
       "      <th>Adj Close</th>\n",
       "      <th>name</th>\n",
       "    </tr>\n",
       "    <tr>\n",
       "      <th>Date</th>\n",
       "      <th></th>\n",
       "      <th></th>\n",
       "      <th></th>\n",
       "      <th></th>\n",
       "      <th></th>\n",
       "      <th></th>\n",
       "      <th></th>\n",
       "    </tr>\n",
       "  </thead>\n",
       "  <tbody>\n",
       "    <tr>\n",
       "      <th>2022-11-11</th>\n",
       "      <td>50.570000</td>\n",
       "      <td>48.439999</td>\n",
       "      <td>48.500000</td>\n",
       "      <td>50.189999</td>\n",
       "      <td>26003700.0</td>\n",
       "      <td>50.189999</td>\n",
       "      <td>C</td>\n",
       "    </tr>\n",
       "    <tr>\n",
       "      <th>2022-11-11</th>\n",
       "      <td>30.629999</td>\n",
       "      <td>28.870001</td>\n",
       "      <td>28.930000</td>\n",
       "      <td>30.430000</td>\n",
       "      <td>49811800.0</td>\n",
       "      <td>30.430000</td>\n",
       "      <td>INTC</td>\n",
       "    </tr>\n",
       "    <tr>\n",
       "      <th>2022-11-11</th>\n",
       "      <td>76.279999</td>\n",
       "      <td>73.050003</td>\n",
       "      <td>74.230003</td>\n",
       "      <td>75.830002</td>\n",
       "      <td>4963700.0</td>\n",
       "      <td>75.830002</td>\n",
       "      <td>MCHP</td>\n",
       "    </tr>\n",
       "  </tbody>\n",
       "</table>\n",
       "</div>"
      ],
      "text/plain": [
       "                 High        Low       Open      Close      Volume  Adj Close  \\\n",
       "Date                                                                            \n",
       "2022-11-11  50.570000  48.439999  48.500000  50.189999  26003700.0  50.189999   \n",
       "2022-11-11  30.629999  28.870001  28.930000  30.430000  49811800.0  30.430000   \n",
       "2022-11-11  76.279999  73.050003  74.230003  75.830002   4963700.0  75.830002   \n",
       "\n",
       "            name  \n",
       "Date              \n",
       "2022-11-11     C  \n",
       "2022-11-11  INTC  \n",
       "2022-11-11  MCHP  "
      ]
     },
     "execution_count": 15,
     "metadata": {},
     "output_type": "execute_result"
    }
   ],
   "source": [
    "# Check the tail\n",
    "stock_df.tail(3)"
   ]
  },
  {
   "cell_type": "markdown",
   "id": "9b1a8ceb",
   "metadata": {},
   "source": [
    "### Is there a company that has identical Close and Adjusted close price?"
   ]
  },
  {
   "cell_type": "markdown",
   "id": "b72efd5b",
   "metadata": {},
   "source": [
    "As we can see, each company has at least some values of Adjusted Close and Close price that are different, which means that no company has these values identical\n",
    "\n",
    "If it had.."
   ]
  },
  {
   "cell_type": "code",
   "execution_count": 16,
   "id": "d9a94192",
   "metadata": {},
   "outputs": [],
   "source": [
    "# Create a difference column\n",
    "stock_df[\"diff_close\"] = stock_df[\"Close\"] - stock_df[\"Adj Close\"]"
   ]
  },
  {
   "cell_type": "code",
   "execution_count": 17,
   "id": "efafb242",
   "metadata": {},
   "outputs": [
    {
     "data": {
      "text/html": [
       "<div>\n",
       "<style scoped>\n",
       "    .dataframe tbody tr th:only-of-type {\n",
       "        vertical-align: middle;\n",
       "    }\n",
       "\n",
       "    .dataframe tbody tr th {\n",
       "        vertical-align: top;\n",
       "    }\n",
       "\n",
       "    .dataframe thead th {\n",
       "        text-align: right;\n",
       "    }\n",
       "</style>\n",
       "<table border=\"1\" class=\"dataframe\">\n",
       "  <thead>\n",
       "    <tr style=\"text-align: right;\">\n",
       "      <th></th>\n",
       "      <th>High</th>\n",
       "      <th>Low</th>\n",
       "      <th>Open</th>\n",
       "      <th>Close</th>\n",
       "      <th>Volume</th>\n",
       "      <th>Adj Close</th>\n",
       "      <th>name</th>\n",
       "      <th>diff_close</th>\n",
       "    </tr>\n",
       "    <tr>\n",
       "      <th>Date</th>\n",
       "      <th></th>\n",
       "      <th></th>\n",
       "      <th></th>\n",
       "      <th></th>\n",
       "      <th></th>\n",
       "      <th></th>\n",
       "      <th></th>\n",
       "      <th></th>\n",
       "    </tr>\n",
       "  </thead>\n",
       "  <tbody>\n",
       "    <tr>\n",
       "      <th>2017-11-13</th>\n",
       "      <td>72.150002</td>\n",
       "      <td>71.480003</td>\n",
       "      <td>71.669998</td>\n",
       "      <td>71.989998</td>\n",
       "      <td>13500600.0</td>\n",
       "      <td>63.376659</td>\n",
       "      <td>C</td>\n",
       "      <td>8.613338</td>\n",
       "    </tr>\n",
       "    <tr>\n",
       "      <th>2017-11-13</th>\n",
       "      <td>45.939999</td>\n",
       "      <td>45.250000</td>\n",
       "      <td>45.259998</td>\n",
       "      <td>45.750000</td>\n",
       "      <td>18999000.0</td>\n",
       "      <td>41.969551</td>\n",
       "      <td>INTC</td>\n",
       "      <td>3.780449</td>\n",
       "    </tr>\n",
       "    <tr>\n",
       "      <th>2017-11-13</th>\n",
       "      <td>46.900002</td>\n",
       "      <td>45.889999</td>\n",
       "      <td>46.849998</td>\n",
       "      <td>46.590000</td>\n",
       "      <td>3540600.0</td>\n",
       "      <td>43.165344</td>\n",
       "      <td>HES</td>\n",
       "      <td>3.424656</td>\n",
       "    </tr>\n",
       "    <tr>\n",
       "      <th>2017-11-13</th>\n",
       "      <td>45.665001</td>\n",
       "      <td>45.235001</td>\n",
       "      <td>45.505001</td>\n",
       "      <td>45.509998</td>\n",
       "      <td>2797600.0</td>\n",
       "      <td>40.574093</td>\n",
       "      <td>MCHP</td>\n",
       "      <td>4.935905</td>\n",
       "    </tr>\n",
       "    <tr>\n",
       "      <th>2017-11-14</th>\n",
       "      <td>71.809998</td>\n",
       "      <td>71.040001</td>\n",
       "      <td>71.650002</td>\n",
       "      <td>71.529999</td>\n",
       "      <td>13188900.0</td>\n",
       "      <td>62.971699</td>\n",
       "      <td>C</td>\n",
       "      <td>8.558300</td>\n",
       "    </tr>\n",
       "    <tr>\n",
       "      <th>2017-11-14</th>\n",
       "      <td>45.919998</td>\n",
       "      <td>45.320000</td>\n",
       "      <td>45.700001</td>\n",
       "      <td>45.860001</td>\n",
       "      <td>22201200.0</td>\n",
       "      <td>42.070461</td>\n",
       "      <td>INTC</td>\n",
       "      <td>3.789539</td>\n",
       "    </tr>\n",
       "    <tr>\n",
       "      <th>2017-11-14</th>\n",
       "      <td>45.560001</td>\n",
       "      <td>45.005001</td>\n",
       "      <td>45.334999</td>\n",
       "      <td>45.505001</td>\n",
       "      <td>3018400.0</td>\n",
       "      <td>40.569630</td>\n",
       "      <td>MCHP</td>\n",
       "      <td>4.935371</td>\n",
       "    </tr>\n",
       "    <tr>\n",
       "      <th>2017-11-14</th>\n",
       "      <td>46.410000</td>\n",
       "      <td>44.709999</td>\n",
       "      <td>46.180000</td>\n",
       "      <td>44.910000</td>\n",
       "      <td>5414000.0</td>\n",
       "      <td>41.608841</td>\n",
       "      <td>HES</td>\n",
       "      <td>3.301159</td>\n",
       "    </tr>\n",
       "    <tr>\n",
       "      <th>2017-11-15</th>\n",
       "      <td>72.070000</td>\n",
       "      <td>70.019997</td>\n",
       "      <td>70.620003</td>\n",
       "      <td>71.730003</td>\n",
       "      <td>17541800.0</td>\n",
       "      <td>63.147797</td>\n",
       "      <td>C</td>\n",
       "      <td>8.582207</td>\n",
       "    </tr>\n",
       "    <tr>\n",
       "      <th>2017-11-15</th>\n",
       "      <td>44.270000</td>\n",
       "      <td>43.320000</td>\n",
       "      <td>44.139999</td>\n",
       "      <td>43.669998</td>\n",
       "      <td>5157700.0</td>\n",
       "      <td>40.459984</td>\n",
       "      <td>HES</td>\n",
       "      <td>3.210014</td>\n",
       "    </tr>\n",
       "    <tr>\n",
       "      <th>2017-11-15</th>\n",
       "      <td>45.810001</td>\n",
       "      <td>45.169998</td>\n",
       "      <td>45.389999</td>\n",
       "      <td>45.459999</td>\n",
       "      <td>17157200.0</td>\n",
       "      <td>41.703506</td>\n",
       "      <td>INTC</td>\n",
       "      <td>3.756493</td>\n",
       "    </tr>\n",
       "    <tr>\n",
       "      <th>2017-11-15</th>\n",
       "      <td>45.349998</td>\n",
       "      <td>44.639999</td>\n",
       "      <td>45.230000</td>\n",
       "      <td>44.794998</td>\n",
       "      <td>2982800.0</td>\n",
       "      <td>39.936634</td>\n",
       "      <td>MCHP</td>\n",
       "      <td>4.858364</td>\n",
       "    </tr>\n",
       "    <tr>\n",
       "      <th>2017-11-16</th>\n",
       "      <td>44.680000</td>\n",
       "      <td>43.810001</td>\n",
       "      <td>43.990002</td>\n",
       "      <td>44.090000</td>\n",
       "      <td>4598600.0</td>\n",
       "      <td>40.849110</td>\n",
       "      <td>HES</td>\n",
       "      <td>3.240891</td>\n",
       "    </tr>\n",
       "    <tr>\n",
       "      <th>2017-11-16</th>\n",
       "      <td>46.070000</td>\n",
       "      <td>45.459999</td>\n",
       "      <td>45.630001</td>\n",
       "      <td>45.650002</td>\n",
       "      <td>26439400.0</td>\n",
       "      <td>41.877811</td>\n",
       "      <td>INTC</td>\n",
       "      <td>3.772190</td>\n",
       "    </tr>\n",
       "    <tr>\n",
       "      <th>2017-11-16</th>\n",
       "      <td>72.320000</td>\n",
       "      <td>71.510002</td>\n",
       "      <td>72.110001</td>\n",
       "      <td>71.669998</td>\n",
       "      <td>12415600.0</td>\n",
       "      <td>63.094948</td>\n",
       "      <td>C</td>\n",
       "      <td>8.575050</td>\n",
       "    </tr>\n",
       "    <tr>\n",
       "      <th>2017-11-16</th>\n",
       "      <td>45.529999</td>\n",
       "      <td>44.814999</td>\n",
       "      <td>44.880001</td>\n",
       "      <td>45.389999</td>\n",
       "      <td>3571600.0</td>\n",
       "      <td>40.467102</td>\n",
       "      <td>MCHP</td>\n",
       "      <td>4.922897</td>\n",
       "    </tr>\n",
       "    <tr>\n",
       "      <th>2017-11-17</th>\n",
       "      <td>44.910000</td>\n",
       "      <td>44.209999</td>\n",
       "      <td>44.360001</td>\n",
       "      <td>44.549999</td>\n",
       "      <td>3950100.0</td>\n",
       "      <td>41.275299</td>\n",
       "      <td>HES</td>\n",
       "      <td>3.274700</td>\n",
       "    </tr>\n",
       "    <tr>\n",
       "      <th>2017-11-17</th>\n",
       "      <td>45.619999</td>\n",
       "      <td>44.619999</td>\n",
       "      <td>45.500000</td>\n",
       "      <td>44.630001</td>\n",
       "      <td>63798000.0</td>\n",
       "      <td>40.942097</td>\n",
       "      <td>INTC</td>\n",
       "      <td>3.687904</td>\n",
       "    </tr>\n",
       "    <tr>\n",
       "      <th>2017-11-17</th>\n",
       "      <td>45.794998</td>\n",
       "      <td>45.320000</td>\n",
       "      <td>45.509998</td>\n",
       "      <td>45.650002</td>\n",
       "      <td>4198400.0</td>\n",
       "      <td>40.698906</td>\n",
       "      <td>MCHP</td>\n",
       "      <td>4.951096</td>\n",
       "    </tr>\n",
       "    <tr>\n",
       "      <th>2017-11-17</th>\n",
       "      <td>71.830002</td>\n",
       "      <td>70.940002</td>\n",
       "      <td>71.160004</td>\n",
       "      <td>71.330002</td>\n",
       "      <td>11813000.0</td>\n",
       "      <td>62.795628</td>\n",
       "      <td>C</td>\n",
       "      <td>8.534374</td>\n",
       "    </tr>\n",
       "  </tbody>\n",
       "</table>\n",
       "</div>"
      ],
      "text/plain": [
       "                 High        Low       Open      Close      Volume  Adj Close  \\\n",
       "Date                                                                            \n",
       "2017-11-13  72.150002  71.480003  71.669998  71.989998  13500600.0  63.376659   \n",
       "2017-11-13  45.939999  45.250000  45.259998  45.750000  18999000.0  41.969551   \n",
       "2017-11-13  46.900002  45.889999  46.849998  46.590000   3540600.0  43.165344   \n",
       "2017-11-13  45.665001  45.235001  45.505001  45.509998   2797600.0  40.574093   \n",
       "2017-11-14  71.809998  71.040001  71.650002  71.529999  13188900.0  62.971699   \n",
       "2017-11-14  45.919998  45.320000  45.700001  45.860001  22201200.0  42.070461   \n",
       "2017-11-14  45.560001  45.005001  45.334999  45.505001   3018400.0  40.569630   \n",
       "2017-11-14  46.410000  44.709999  46.180000  44.910000   5414000.0  41.608841   \n",
       "2017-11-15  72.070000  70.019997  70.620003  71.730003  17541800.0  63.147797   \n",
       "2017-11-15  44.270000  43.320000  44.139999  43.669998   5157700.0  40.459984   \n",
       "2017-11-15  45.810001  45.169998  45.389999  45.459999  17157200.0  41.703506   \n",
       "2017-11-15  45.349998  44.639999  45.230000  44.794998   2982800.0  39.936634   \n",
       "2017-11-16  44.680000  43.810001  43.990002  44.090000   4598600.0  40.849110   \n",
       "2017-11-16  46.070000  45.459999  45.630001  45.650002  26439400.0  41.877811   \n",
       "2017-11-16  72.320000  71.510002  72.110001  71.669998  12415600.0  63.094948   \n",
       "2017-11-16  45.529999  44.814999  44.880001  45.389999   3571600.0  40.467102   \n",
       "2017-11-17  44.910000  44.209999  44.360001  44.549999   3950100.0  41.275299   \n",
       "2017-11-17  45.619999  44.619999  45.500000  44.630001  63798000.0  40.942097   \n",
       "2017-11-17  45.794998  45.320000  45.509998  45.650002   4198400.0  40.698906   \n",
       "2017-11-17  71.830002  70.940002  71.160004  71.330002  11813000.0  62.795628   \n",
       "\n",
       "            name  diff_close  \n",
       "Date                          \n",
       "2017-11-13     C    8.613338  \n",
       "2017-11-13  INTC    3.780449  \n",
       "2017-11-13   HES    3.424656  \n",
       "2017-11-13  MCHP    4.935905  \n",
       "2017-11-14     C    8.558300  \n",
       "2017-11-14  INTC    3.789539  \n",
       "2017-11-14  MCHP    4.935371  \n",
       "2017-11-14   HES    3.301159  \n",
       "2017-11-15     C    8.582207  \n",
       "2017-11-15   HES    3.210014  \n",
       "2017-11-15  INTC    3.756493  \n",
       "2017-11-15  MCHP    4.858364  \n",
       "2017-11-16   HES    3.240891  \n",
       "2017-11-16  INTC    3.772190  \n",
       "2017-11-16     C    8.575050  \n",
       "2017-11-16  MCHP    4.922897  \n",
       "2017-11-17   HES    3.274700  \n",
       "2017-11-17  INTC    3.687904  \n",
       "2017-11-17  MCHP    4.951096  \n",
       "2017-11-17     C    8.534374  "
      ]
     },
     "execution_count": 17,
     "metadata": {},
     "output_type": "execute_result"
    }
   ],
   "source": [
    "# Grouped dataset\n",
    "stock_df_grouped = stock_df.groupby(\"name\")\n",
    "\n",
    "stock_df_grouped.head()"
   ]
  },
  {
   "cell_type": "markdown",
   "id": "04096838",
   "metadata": {},
   "source": [
    "### 2. Highest and lowest Adjusted Close price for each company recorded"
   ]
  },
  {
   "cell_type": "code",
   "execution_count": 18,
   "id": "6132237d",
   "metadata": {},
   "outputs": [
    {
     "data": {
      "text/plain": [
       "name\n",
       "C        78.082741\n",
       "HES     148.740005\n",
       "INTC     67.842155\n",
       "MCHP     89.349998\n",
       "Name: Adj Close, dtype: float64"
      ]
     },
     "execution_count": 18,
     "metadata": {},
     "output_type": "execute_result"
    }
   ],
   "source": [
    "# Highest adjusted close price per company\n",
    "stock_df.groupby(\"name\")[\"Adj Close\"].max()"
   ]
  },
  {
   "cell_type": "code",
   "execution_count": 19,
   "id": "c7da759c",
   "metadata": {},
   "outputs": [
    {
     "data": {
      "text/plain": [
       "name\n",
       "C       32.968502\n",
       "HES     28.099527\n",
       "INTC    25.040001\n",
       "MCHP    27.012880\n",
       "Name: Adj Close, dtype: float64"
      ]
     },
     "execution_count": 19,
     "metadata": {},
     "output_type": "execute_result"
    }
   ],
   "source": [
    "# lowest adjusted close price per company\n",
    "stock_df.groupby(\"name\")[\"Adj Close\"].min()"
   ]
  },
  {
   "cell_type": "markdown",
   "id": "eb51ad32",
   "metadata": {},
   "source": [
    "### 3. Logarithmic returns and distribution"
   ]
  },
  {
   "cell_type": "code",
   "execution_count": 21,
   "id": "109eb7dd",
   "metadata": {},
   "outputs": [
    {
     "data": {
      "text/plain": [
       "Date\n",
       "2017-11-13         NaN\n",
       "2017-11-13   -0.412151\n",
       "Name: Adj Close, dtype: float64"
      ]
     },
     "execution_count": 21,
     "metadata": {},
     "output_type": "execute_result"
    }
   ],
   "source": [
    "close = stock_df[\"Adj Close\"]\n",
    "\n",
    "# Daily log returns per company\n",
    "\n",
    "daily_returns = np.log(close).diff(periods = 1)\n",
    "daily_returns.head(2) # First observation lost as expected"
   ]
  },
  {
   "cell_type": "code",
   "execution_count": 23,
   "id": "37a4e08e",
   "metadata": {},
   "outputs": [
    {
     "data": {
      "text/html": [
       "<div>\n",
       "<style scoped>\n",
       "    .dataframe tbody tr th:only-of-type {\n",
       "        vertical-align: middle;\n",
       "    }\n",
       "\n",
       "    .dataframe tbody tr th {\n",
       "        vertical-align: top;\n",
       "    }\n",
       "\n",
       "    .dataframe thead th {\n",
       "        text-align: right;\n",
       "    }\n",
       "</style>\n",
       "<table border=\"1\" class=\"dataframe\">\n",
       "  <thead>\n",
       "    <tr style=\"text-align: right;\">\n",
       "      <th></th>\n",
       "      <th>High</th>\n",
       "      <th>Low</th>\n",
       "      <th>Open</th>\n",
       "      <th>Close</th>\n",
       "      <th>Volume</th>\n",
       "      <th>Adj Close</th>\n",
       "      <th>name</th>\n",
       "      <th>diff_close</th>\n",
       "      <th>log_returns</th>\n",
       "    </tr>\n",
       "    <tr>\n",
       "      <th>Date</th>\n",
       "      <th></th>\n",
       "      <th></th>\n",
       "      <th></th>\n",
       "      <th></th>\n",
       "      <th></th>\n",
       "      <th></th>\n",
       "      <th></th>\n",
       "      <th></th>\n",
       "      <th></th>\n",
       "    </tr>\n",
       "  </thead>\n",
       "  <tbody>\n",
       "    <tr>\n",
       "      <th>2017-11-13</th>\n",
       "      <td>72.150002</td>\n",
       "      <td>71.480003</td>\n",
       "      <td>71.669998</td>\n",
       "      <td>71.989998</td>\n",
       "      <td>13500600.0</td>\n",
       "      <td>63.376659</td>\n",
       "      <td>C</td>\n",
       "      <td>8.613338</td>\n",
       "      <td>NaN</td>\n",
       "    </tr>\n",
       "    <tr>\n",
       "      <th>2017-11-13</th>\n",
       "      <td>45.939999</td>\n",
       "      <td>45.250000</td>\n",
       "      <td>45.259998</td>\n",
       "      <td>45.750000</td>\n",
       "      <td>18999000.0</td>\n",
       "      <td>41.969551</td>\n",
       "      <td>INTC</td>\n",
       "      <td>3.780449</td>\n",
       "      <td>-0.412151</td>\n",
       "    </tr>\n",
       "    <tr>\n",
       "      <th>2017-11-13</th>\n",
       "      <td>46.900002</td>\n",
       "      <td>45.889999</td>\n",
       "      <td>46.849998</td>\n",
       "      <td>46.590000</td>\n",
       "      <td>3540600.0</td>\n",
       "      <td>43.165344</td>\n",
       "      <td>HES</td>\n",
       "      <td>3.424656</td>\n",
       "      <td>0.028094</td>\n",
       "    </tr>\n",
       "  </tbody>\n",
       "</table>\n",
       "</div>"
      ],
      "text/plain": [
       "                 High        Low       Open      Close      Volume  Adj Close  \\\n",
       "Date                                                                            \n",
       "2017-11-13  72.150002  71.480003  71.669998  71.989998  13500600.0  63.376659   \n",
       "2017-11-13  45.939999  45.250000  45.259998  45.750000  18999000.0  41.969551   \n",
       "2017-11-13  46.900002  45.889999  46.849998  46.590000   3540600.0  43.165344   \n",
       "\n",
       "            name  diff_close  log_returns  \n",
       "Date                                       \n",
       "2017-11-13     C    8.613338          NaN  \n",
       "2017-11-13  INTC    3.780449    -0.412151  \n",
       "2017-11-13   HES    3.424656     0.028094  "
      ]
     },
     "execution_count": 23,
     "metadata": {},
     "output_type": "execute_result"
    }
   ],
   "source": [
    "# add the column to the master dataset\n",
    "stock_df[\"log_returns\"] = daily_returns\n",
    "\n",
    "# Check\n",
    "stock_df.head(3)"
   ]
  },
  {
   "cell_type": "code",
   "execution_count": 24,
   "id": "67e0a73b",
   "metadata": {},
   "outputs": [
    {
     "data": {
      "text/plain": [
       "name\n",
       "C      -1.179445\n",
       "HES    -0.557911\n",
       "INTC   -1.654283\n",
       "MCHP   -0.830537\n",
       "Name: log_returns, dtype: float64"
      ]
     },
     "execution_count": 24,
     "metadata": {},
     "output_type": "execute_result"
    }
   ],
   "source": [
    "# minimum log returns per company\n",
    "stock_df.groupby(\"name\")[\"log_returns\"].min()"
   ]
  },
  {
   "cell_type": "code",
   "execution_count": 25,
   "id": "4f52dabb",
   "metadata": {},
   "outputs": [
    {
     "data": {
      "text/plain": [
       "name\n",
       "C       0.699642\n",
       "HES     1.655459\n",
       "INTC    0.535994\n",
       "MCHP    0.913065\n",
       "Name: log_returns, dtype: float64"
      ]
     },
     "execution_count": 25,
     "metadata": {},
     "output_type": "execute_result"
    }
   ],
   "source": [
    "# maximum log returns per company\n",
    "stock_df.groupby(\"name\")[\"log_returns\"].max()"
   ]
  },
  {
   "cell_type": "code",
   "execution_count": 27,
   "id": "166c68da",
   "metadata": {},
   "outputs": [
    {
     "data": {
      "text/plain": [
       "name\n",
       "C       0.072201\n",
       "HES     0.169370\n",
       "INTC   -0.173266\n",
       "MCHP   -0.068106\n",
       "Name: log_returns, dtype: float64"
      ]
     },
     "execution_count": 27,
     "metadata": {},
     "output_type": "execute_result"
    }
   ],
   "source": [
    "# mean log returns per company\n",
    "stock_df.groupby(\"name\")[\"log_returns\"].mean()"
   ]
  },
  {
   "cell_type": "code",
   "execution_count": 28,
   "id": "3307b3e6",
   "metadata": {},
   "outputs": [
    {
     "data": {
      "text/plain": [
       "name\n",
       "C       0.083637\n",
       "HES     0.085381\n",
       "INTC   -0.163443\n",
       "MCHP   -0.072301\n",
       "Name: log_returns, dtype: float64"
      ]
     },
     "execution_count": 28,
     "metadata": {},
     "output_type": "execute_result"
    }
   ],
   "source": [
    "# median log returns per company\n",
    "stock_df.groupby(\"name\")[\"log_returns\"].median()"
   ]
  },
  {
   "cell_type": "markdown",
   "id": "fa293d78",
   "metadata": {},
   "source": [
    "### 4. Highest gain and loss days per company"
   ]
  },
  {
   "cell_type": "code",
   "execution_count": 29,
   "id": "59744e9b",
   "metadata": {},
   "outputs": [
    {
     "data": {
      "text/plain": [
       "name\n",
       "C      2018-10-10\n",
       "HES    2022-11-07\n",
       "INTC   2020-03-23\n",
       "MCHP   2022-11-11\n",
       "Name: log_returns, dtype: datetime64[ns]"
      ]
     },
     "execution_count": 29,
     "metadata": {},
     "output_type": "execute_result"
    }
   ],
   "source": [
    "# Highest gain days\n",
    "stock_df.groupby(\"name\")[\"log_returns\"].idxmax()"
   ]
  },
  {
   "cell_type": "code",
   "execution_count": 30,
   "id": "31950add",
   "metadata": {},
   "outputs": [
    {
     "data": {
      "text/plain": [
       "name\n",
       "C      2022-11-07\n",
       "HES    2020-03-16\n",
       "INTC   2022-10-26\n",
       "MCHP   2022-11-04\n",
       "Name: log_returns, dtype: datetime64[ns]"
      ]
     },
     "execution_count": 30,
     "metadata": {},
     "output_type": "execute_result"
    }
   ],
   "source": [
    "# Highest loss days\n",
    "stock_df.groupby(\"name\")[\"log_returns\"].idxmin()"
   ]
  },
  {
   "cell_type": "markdown",
   "id": "63addae7",
   "metadata": {},
   "source": [
    "### 5. Average calendar weekly volume per company"
   ]
  },
  {
   "cell_type": "code",
   "execution_count": null,
   "id": "f3308ca9",
   "metadata": {},
   "outputs": [],
   "source": []
  },
  {
   "cell_type": "markdown",
   "id": "82cd1f24",
   "metadata": {},
   "source": [
    "### 6. Which company recorded highest overall return over the whole period"
   ]
  },
  {
   "cell_type": "code",
   "execution_count": 33,
   "id": "427f2139",
   "metadata": {},
   "outputs": [
    {
     "data": {
      "text/html": [
       "<div>\n",
       "<style scoped>\n",
       "    .dataframe tbody tr th:only-of-type {\n",
       "        vertical-align: middle;\n",
       "    }\n",
       "\n",
       "    .dataframe tbody tr th {\n",
       "        vertical-align: top;\n",
       "    }\n",
       "\n",
       "    .dataframe thead th {\n",
       "        text-align: right;\n",
       "    }\n",
       "</style>\n",
       "<table border=\"1\" class=\"dataframe\">\n",
       "  <thead>\n",
       "    <tr style=\"text-align: right;\">\n",
       "      <th></th>\n",
       "      <th>name</th>\n",
       "      <th>log_returns</th>\n",
       "    </tr>\n",
       "    <tr>\n",
       "      <th>Date</th>\n",
       "      <th></th>\n",
       "      <th></th>\n",
       "    </tr>\n",
       "  </thead>\n",
       "  <tbody>\n",
       "    <tr>\n",
       "      <th>2017-11-13</th>\n",
       "      <td>C</td>\n",
       "      <td>NaN</td>\n",
       "    </tr>\n",
       "    <tr>\n",
       "      <th>2017-11-13</th>\n",
       "      <td>INTC</td>\n",
       "      <td>-0.412151</td>\n",
       "    </tr>\n",
       "    <tr>\n",
       "      <th>2017-11-13</th>\n",
       "      <td>HES</td>\n",
       "      <td>0.028094</td>\n",
       "    </tr>\n",
       "    <tr>\n",
       "      <th>2017-11-13</th>\n",
       "      <td>MCHP</td>\n",
       "      <td>-0.061908</td>\n",
       "    </tr>\n",
       "    <tr>\n",
       "      <th>2017-11-14</th>\n",
       "      <td>C</td>\n",
       "      <td>0.439556</td>\n",
       "    </tr>\n",
       "  </tbody>\n",
       "</table>\n",
       "</div>"
      ],
      "text/plain": [
       "            name  log_returns\n",
       "Date                         \n",
       "2017-11-13     C          NaN\n",
       "2017-11-13  INTC    -0.412151\n",
       "2017-11-13   HES     0.028094\n",
       "2017-11-13  MCHP    -0.061908\n",
       "2017-11-14     C     0.439556"
      ]
     },
     "execution_count": 33,
     "metadata": {},
     "output_type": "execute_result"
    }
   ],
   "source": [
    "# Create a return dataset\n",
    "returns = stock_df[[\"name\", \"log_returns\"]]\n",
    "returns.head()"
   ]
  },
  {
   "cell_type": "code",
   "execution_count": 35,
   "id": "a16dbd8d",
   "metadata": {},
   "outputs": [
    {
     "data": {
      "text/html": [
       "<div>\n",
       "<style scoped>\n",
       "    .dataframe tbody tr th:only-of-type {\n",
       "        vertical-align: middle;\n",
       "    }\n",
       "\n",
       "    .dataframe tbody tr th {\n",
       "        vertical-align: top;\n",
       "    }\n",
       "\n",
       "    .dataframe thead th {\n",
       "        text-align: right;\n",
       "    }\n",
       "</style>\n",
       "<table border=\"1\" class=\"dataframe\">\n",
       "  <thead>\n",
       "    <tr style=\"text-align: right;\">\n",
       "      <th>name</th>\n",
       "      <th>C</th>\n",
       "      <th>HES</th>\n",
       "      <th>INTC</th>\n",
       "      <th>MCHP</th>\n",
       "    </tr>\n",
       "    <tr>\n",
       "      <th>Date</th>\n",
       "      <th></th>\n",
       "      <th></th>\n",
       "      <th></th>\n",
       "      <th></th>\n",
       "    </tr>\n",
       "  </thead>\n",
       "  <tbody>\n",
       "    <tr>\n",
       "      <th>2017-11-13</th>\n",
       "      <td>NaN</td>\n",
       "      <td>0.028094</td>\n",
       "      <td>-0.412151</td>\n",
       "      <td>-0.061908</td>\n",
       "    </tr>\n",
       "    <tr>\n",
       "      <th>2017-11-14</th>\n",
       "      <td>0.439556</td>\n",
       "      <td>0.025293</td>\n",
       "      <td>-0.403340</td>\n",
       "      <td>-0.036326</td>\n",
       "    </tr>\n",
       "    <tr>\n",
       "      <th>2017-11-15</th>\n",
       "      <td>0.417165</td>\n",
       "      <td>-0.445165</td>\n",
       "      <td>0.030272</td>\n",
       "      <td>-0.043291</td>\n",
       "    </tr>\n",
       "    <tr>\n",
       "      <th>2017-11-16</th>\n",
       "      <td>0.409885</td>\n",
       "      <td>0.022591</td>\n",
       "      <td>0.024871</td>\n",
       "      <td>-0.444151</td>\n",
       "    </tr>\n",
       "    <tr>\n",
       "      <th>2017-11-17</th>\n",
       "      <td>0.433684</td>\n",
       "      <td>0.019775</td>\n",
       "      <td>-0.008105</td>\n",
       "      <td>-0.005958</td>\n",
       "    </tr>\n",
       "  </tbody>\n",
       "</table>\n",
       "</div>"
      ],
      "text/plain": [
       "name               C       HES      INTC      MCHP\n",
       "Date                                              \n",
       "2017-11-13       NaN  0.028094 -0.412151 -0.061908\n",
       "2017-11-14  0.439556  0.025293 -0.403340 -0.036326\n",
       "2017-11-15  0.417165 -0.445165  0.030272 -0.043291\n",
       "2017-11-16  0.409885  0.022591  0.024871 -0.444151\n",
       "2017-11-17  0.433684  0.019775 -0.008105 -0.005958"
      ]
     },
     "execution_count": 35,
     "metadata": {},
     "output_type": "execute_result"
    }
   ],
   "source": [
    "# Names as columns, returns as rows for each day\n",
    "returns_final = returns.pivot(columns = \"name\", values = \"log_returns\")\n",
    "returns_final.head()"
   ]
  },
  {
   "cell_type": "code",
   "execution_count": 91,
   "id": "b8eef4ac",
   "metadata": {},
   "outputs": [
    {
     "data": {
      "text/plain": [
       "Date\n",
       "2017-11-13    0.938092\n",
       "2017-11-14    0.963674\n",
       "2017-11-15    0.956709\n",
       "2017-11-16    0.555849\n",
       "2017-11-17    0.994042\n",
       "                ...   \n",
       "2022-11-07    1.372961\n",
       "2022-11-08    1.384725\n",
       "2022-11-09    1.882289\n",
       "2022-11-10    1.909818\n",
       "2022-11-11    1.913065\n",
       "Name: MCHP, Length: 1259, dtype: float64"
      ]
     },
     "execution_count": 91,
     "metadata": {},
     "output_type": "execute_result"
    }
   ],
   "source": [
    "# Calculate overall return per company\n",
    "returns_final[\"C\"].apply(lambda x: np.product(1 + x))\n",
    "\n",
    "# analogously for all\n",
    "returns_final[\"HES\"].apply(lambda x: np.product(1 + x))\n",
    "returns_final[\"INTC\"].apply(lambda x: np.product(1 + x))\n",
    "returns_final[\"MCHP\"].apply(lambda x: np.product(1 + x))\n",
    "\n"
   ]
  },
  {
   "cell_type": "markdown",
   "id": "8d9ee2ed",
   "metadata": {},
   "source": [
    "### 7. Plot the log returns"
   ]
  },
  {
   "cell_type": "code",
   "execution_count": 37,
   "id": "805b2533",
   "metadata": {},
   "outputs": [
    {
     "data": {
      "text/html": [
       "<div>\n",
       "<style scoped>\n",
       "    .dataframe tbody tr th:only-of-type {\n",
       "        vertical-align: middle;\n",
       "    }\n",
       "\n",
       "    .dataframe tbody tr th {\n",
       "        vertical-align: top;\n",
       "    }\n",
       "\n",
       "    .dataframe thead th {\n",
       "        text-align: right;\n",
       "    }\n",
       "</style>\n",
       "<table border=\"1\" class=\"dataframe\">\n",
       "  <thead>\n",
       "    <tr style=\"text-align: right;\">\n",
       "      <th>name</th>\n",
       "      <th>C</th>\n",
       "      <th>HES</th>\n",
       "      <th>INTC</th>\n",
       "      <th>MCHP</th>\n",
       "      <th>date</th>\n",
       "    </tr>\n",
       "    <tr>\n",
       "      <th>Date</th>\n",
       "      <th></th>\n",
       "      <th></th>\n",
       "      <th></th>\n",
       "      <th></th>\n",
       "      <th></th>\n",
       "    </tr>\n",
       "  </thead>\n",
       "  <tbody>\n",
       "    <tr>\n",
       "      <th>2017-11-13</th>\n",
       "      <td>NaN</td>\n",
       "      <td>0.028094</td>\n",
       "      <td>-0.412151</td>\n",
       "      <td>-0.061908</td>\n",
       "      <td>2017-11-13</td>\n",
       "    </tr>\n",
       "    <tr>\n",
       "      <th>2017-11-14</th>\n",
       "      <td>0.439556</td>\n",
       "      <td>0.025293</td>\n",
       "      <td>-0.403340</td>\n",
       "      <td>-0.036326</td>\n",
       "      <td>2017-11-14</td>\n",
       "    </tr>\n",
       "    <tr>\n",
       "      <th>2017-11-15</th>\n",
       "      <td>0.417165</td>\n",
       "      <td>-0.445165</td>\n",
       "      <td>0.030272</td>\n",
       "      <td>-0.043291</td>\n",
       "      <td>2017-11-15</td>\n",
       "    </tr>\n",
       "    <tr>\n",
       "      <th>2017-11-16</th>\n",
       "      <td>0.409885</td>\n",
       "      <td>0.022591</td>\n",
       "      <td>0.024871</td>\n",
       "      <td>-0.444151</td>\n",
       "      <td>2017-11-16</td>\n",
       "    </tr>\n",
       "    <tr>\n",
       "      <th>2017-11-17</th>\n",
       "      <td>0.433684</td>\n",
       "      <td>0.019775</td>\n",
       "      <td>-0.008105</td>\n",
       "      <td>-0.005958</td>\n",
       "      <td>2017-11-17</td>\n",
       "    </tr>\n",
       "  </tbody>\n",
       "</table>\n",
       "</div>"
      ],
      "text/plain": [
       "name               C       HES      INTC      MCHP       date\n",
       "Date                                                         \n",
       "2017-11-13       NaN  0.028094 -0.412151 -0.061908 2017-11-13\n",
       "2017-11-14  0.439556  0.025293 -0.403340 -0.036326 2017-11-14\n",
       "2017-11-15  0.417165 -0.445165  0.030272 -0.043291 2017-11-15\n",
       "2017-11-16  0.409885  0.022591  0.024871 -0.444151 2017-11-16\n",
       "2017-11-17  0.433684  0.019775 -0.008105 -0.005958 2017-11-17"
      ]
     },
     "execution_count": 37,
     "metadata": {},
     "output_type": "execute_result"
    }
   ],
   "source": [
    "# Create a date column by extracting from index\n",
    "returns_final[\"date\"] = pd.to_datetime(returns_final.index)\n",
    "returns_final.head()"
   ]
  },
  {
   "cell_type": "code",
   "execution_count": 38,
   "id": "a4e120b3",
   "metadata": {},
   "outputs": [
    {
     "data": {
      "image/png": "[encoded data removed]",
      "text/plain": [
       "<Figure size 1000x600 with 1 Axes>"
      ]
     },
     "metadata": {},
     "output_type": "display_data"
    }
   ],
   "source": [
    "# Plot the returns\n",
    "returns_final.plot(figsize=(10, 6))\n",
    "\n",
    "# Set labels and title\n",
    "plt.xlabel('Date')\n",
    "plt.ylabel('log returns')\n",
    "plt.title('Log returns over time')\n",
    "\n",
    "# Show the plot\n",
    "plt.legend(loc='upper left')\n",
    "plt.show()"
   ]
  },
  {
   "cell_type": "markdown",
   "id": "8acdb8ee",
   "metadata": {},
   "source": [
    "### 8. Distribution of Log returns per company"
   ]
  },
  {
   "cell_type": "code",
   "execution_count": null,
   "id": "ea38070d",
   "metadata": {},
   "outputs": [],
   "source": []
  },
  {
   "cell_type": "markdown",
   "id": "5fc11926",
   "metadata": {},
   "source": [
    "## part 2"
   ]
  },
  {
   "cell_type": "code",
   "execution_count": 41,
   "id": "533c8600",
   "metadata": {},
   "outputs": [
    {
     "data": {
      "text/html": [
       "<div>\n",
       "<style scoped>\n",
       "    .dataframe tbody tr th:only-of-type {\n",
       "        vertical-align: middle;\n",
       "    }\n",
       "\n",
       "    .dataframe tbody tr th {\n",
       "        vertical-align: top;\n",
       "    }\n",
       "\n",
       "    .dataframe thead th {\n",
       "        text-align: right;\n",
       "    }\n",
       "</style>\n",
       "<table border=\"1\" class=\"dataframe\">\n",
       "  <thead>\n",
       "    <tr style=\"text-align: right;\">\n",
       "      <th></th>\n",
       "      <th>Symbol</th>\n",
       "      <th>Security</th>\n",
       "      <th>GICS_Sector</th>\n",
       "      <th>hq</th>\n",
       "      <th>included</th>\n",
       "      <th>Founded</th>\n",
       "    </tr>\n",
       "  </thead>\n",
       "  <tbody>\n",
       "    <tr>\n",
       "      <th>0</th>\n",
       "      <td>MMM</td>\n",
       "      <td>3M</td>\n",
       "      <td>Industrials</td>\n",
       "      <td>Saint Paul, Minnesota</td>\n",
       "      <td>09.08.1976</td>\n",
       "      <td>1902</td>\n",
       "    </tr>\n",
       "    <tr>\n",
       "      <th>1</th>\n",
       "      <td>AOS</td>\n",
       "      <td>A. O. Smith</td>\n",
       "      <td>Industrials</td>\n",
       "      <td>Milwaukee, Wisconsin</td>\n",
       "      <td>26.07.2017</td>\n",
       "      <td>1916</td>\n",
       "    </tr>\n",
       "    <tr>\n",
       "      <th>2</th>\n",
       "      <td>ABT</td>\n",
       "      <td>Abbott</td>\n",
       "      <td>Health Care</td>\n",
       "      <td>North Chicago, Illinois</td>\n",
       "      <td>31.03.1964</td>\n",
       "      <td>1888</td>\n",
       "    </tr>\n",
       "    <tr>\n",
       "      <th>3</th>\n",
       "      <td>ABBV</td>\n",
       "      <td>AbbVie</td>\n",
       "      <td>Health Care</td>\n",
       "      <td>North Chicago, Illinois</td>\n",
       "      <td>31.12.2012</td>\n",
       "      <td>2013 (1888)</td>\n",
       "    </tr>\n",
       "    <tr>\n",
       "      <th>4</th>\n",
       "      <td>ABMD</td>\n",
       "      <td>Abiomed</td>\n",
       "      <td>Health Care</td>\n",
       "      <td>Danvers, Massachusetts</td>\n",
       "      <td>31.05.2018</td>\n",
       "      <td>1981</td>\n",
       "    </tr>\n",
       "  </tbody>\n",
       "</table>\n",
       "</div>"
      ],
      "text/plain": [
       "  Symbol     Security  GICS_Sector                       hq    included  \\\n",
       "0    MMM           3M  Industrials    Saint Paul, Minnesota  09.08.1976   \n",
       "1    AOS  A. O. Smith  Industrials     Milwaukee, Wisconsin  26.07.2017   \n",
       "2    ABT       Abbott  Health Care  North Chicago, Illinois  31.03.1964   \n",
       "3   ABBV       AbbVie  Health Care  North Chicago, Illinois  31.12.2012   \n",
       "4   ABMD      Abiomed  Health Care   Danvers, Massachusetts  31.05.2018   \n",
       "\n",
       "       Founded  \n",
       "0         1902  \n",
       "1         1916  \n",
       "2         1888  \n",
       "3  2013 (1888)  \n",
       "4         1981  "
      ]
     },
     "execution_count": 41,
     "metadata": {},
     "output_type": "execute_result"
    }
   ],
   "source": [
    "SP_data = pd.read_csv(\"https://ies-python-midterm.s3.eu-central-1.amazonaws.com/companies/companies_no_subindustry.csv\")\n",
    "\n",
    "SP_data.head(5)"
   ]
  },
  {
   "cell_type": "code",
   "execution_count": 48,
   "id": "33619afc",
   "metadata": {},
   "outputs": [
    {
     "name": "stdout",
     "output_type": "stream",
     "text": [
      "<class 'pandas.core.frame.DataFrame'>\n",
      "RangeIndex: 503 entries, 0 to 502\n",
      "Data columns (total 6 columns):\n",
      " #   Column       Non-Null Count  Dtype \n",
      "---  ------       --------------  ----- \n",
      " 0   Symbol       503 non-null    object\n",
      " 1   Security     503 non-null    object\n",
      " 2   GICS_Sector  503 non-null    object\n",
      " 3   hq           503 non-null    object\n",
      " 4   included     458 non-null    object\n",
      " 5   Founded      503 non-null    object\n",
      "dtypes: object(6)\n",
      "memory usage: 23.7+ KB\n"
     ]
    }
   ],
   "source": [
    "# structure\n",
    "SP_data.info()"
   ]
  },
  {
   "cell_type": "markdown",
   "id": "812ae88e",
   "metadata": {},
   "source": [
    "### 1. Which companies did not enter the date of inclusion?"
   ]
  },
  {
   "cell_type": "markdown",
   "id": "d491ebc5",
   "metadata": {},
   "source": [
    "45 companies did not include the info"
   ]
  },
  {
   "cell_type": "code",
   "execution_count": 43,
   "id": "d971c812",
   "metadata": {},
   "outputs": [],
   "source": [
    "# Get just unique companies\n",
    "SP_data_cleaned = SP_data.drop_duplicates()"
   ]
  },
  {
   "cell_type": "code",
   "execution_count": 50,
   "id": "a3b2529c",
   "metadata": {},
   "outputs": [
    {
     "data": {
      "text/plain": [
       "Symbol         45\n",
       "Security       45\n",
       "GICS_Sector    45\n",
       "hq             45\n",
       "included        0\n",
       "Founded        45\n",
       "dtype: int64"
      ]
     },
     "execution_count": 50,
     "metadata": {},
     "output_type": "execute_result"
    }
   ],
   "source": [
    "# How many NA values are in the included\n",
    "SP_data_cleaned[SP_data_cleaned[\"included\"].isna()].count()"
   ]
  },
  {
   "cell_type": "markdown",
   "id": "553cf620",
   "metadata": {},
   "source": [
    "### 2. Oldest company, average age"
   ]
  },
  {
   "cell_type": "code",
   "execution_count": 69,
   "id": "52d21bcf",
   "metadata": {},
   "outputs": [
    {
     "data": {
      "text/html": [
       "<div>\n",
       "<style scoped>\n",
       "    .dataframe tbody tr th:only-of-type {\n",
       "        vertical-align: middle;\n",
       "    }\n",
       "\n",
       "    .dataframe tbody tr th {\n",
       "        vertical-align: top;\n",
       "    }\n",
       "\n",
       "    .dataframe thead th {\n",
       "        text-align: right;\n",
       "    }\n",
       "</style>\n",
       "<table border=\"1\" class=\"dataframe\">\n",
       "  <thead>\n",
       "    <tr style=\"text-align: right;\">\n",
       "      <th></th>\n",
       "      <th>Symbol</th>\n",
       "      <th>Security</th>\n",
       "      <th>GICS_Sector</th>\n",
       "      <th>hq</th>\n",
       "      <th>included</th>\n",
       "      <th>Founded</th>\n",
       "    </tr>\n",
       "  </thead>\n",
       "  <tbody>\n",
       "    <tr>\n",
       "      <th>0</th>\n",
       "      <td>MMM</td>\n",
       "      <td>3M</td>\n",
       "      <td>Industrials</td>\n",
       "      <td>Saint Paul, Minnesota</td>\n",
       "      <td>1976-08-09</td>\n",
       "      <td>1902</td>\n",
       "    </tr>\n",
       "    <tr>\n",
       "      <th>1</th>\n",
       "      <td>AOS</td>\n",
       "      <td>A. O. Smith</td>\n",
       "      <td>Industrials</td>\n",
       "      <td>Milwaukee, Wisconsin</td>\n",
       "      <td>2017-07-26</td>\n",
       "      <td>1916</td>\n",
       "    </tr>\n",
       "    <tr>\n",
       "      <th>2</th>\n",
       "      <td>ABT</td>\n",
       "      <td>Abbott</td>\n",
       "      <td>Health Care</td>\n",
       "      <td>North Chicago, Illinois</td>\n",
       "      <td>1964-03-31</td>\n",
       "      <td>1888</td>\n",
       "    </tr>\n",
       "  </tbody>\n",
       "</table>\n",
       "</div>"
      ],
      "text/plain": [
       "  Symbol     Security  GICS_Sector                       hq   included Founded\n",
       "0    MMM           3M  Industrials    Saint Paul, Minnesota 1976-08-09    1902\n",
       "1    AOS  A. O. Smith  Industrials     Milwaukee, Wisconsin 2017-07-26    1916\n",
       "2    ABT       Abbott  Health Care  North Chicago, Illinois 1964-03-31    1888"
      ]
     },
     "execution_count": 69,
     "metadata": {},
     "output_type": "execute_result"
    }
   ],
   "source": [
    "# take the first year in the Founded column and discard the rest\n",
    "SP_data_cleaned['Founded'] = SP_data_cleaned['Founded'].str[:4]\n",
    "\n",
    "SP_data_cleaned.head(3)"
   ]
  },
  {
   "cell_type": "code",
   "execution_count": 52,
   "id": "17ca89c1",
   "metadata": {},
   "outputs": [],
   "source": [
    "# Drop the not included\n",
    "SP_data_cleaned.included.dropna(inplace = True)"
   ]
  },
  {
   "cell_type": "code",
   "execution_count": 56,
   "id": "f146ab6f",
   "metadata": {},
   "outputs": [
    {
     "data": {
      "text/plain": [
       "pandas._libs.tslibs.timestamps.Timestamp"
      ]
     },
     "execution_count": 56,
     "metadata": {},
     "output_type": "execute_result"
    }
   ],
   "source": [
    "# Convert the included column to datetime\n",
    "SP_data_cleaned[\"included\"] = pd.to_datetime(SP_data_cleaned[\"included\"], dayfirst = True, errors = \"coerce\")\n",
    "\n",
    "# check\n",
    "type(SP_data_cleaned[\"included\"][1])"
   ]
  },
  {
   "cell_type": "code",
   "execution_count": 59,
   "id": "6dc6979f",
   "metadata": {},
   "outputs": [
    {
     "data": {
      "text/html": [
       "<div>\n",
       "<style scoped>\n",
       "    .dataframe tbody tr th:only-of-type {\n",
       "        vertical-align: middle;\n",
       "    }\n",
       "\n",
       "    .dataframe tbody tr th {\n",
       "        vertical-align: top;\n",
       "    }\n",
       "\n",
       "    .dataframe thead th {\n",
       "        text-align: right;\n",
       "    }\n",
       "</style>\n",
       "<table border=\"1\" class=\"dataframe\">\n",
       "  <thead>\n",
       "    <tr style=\"text-align: right;\">\n",
       "      <th></th>\n",
       "      <th>Symbol</th>\n",
       "      <th>Security</th>\n",
       "      <th>GICS_Sector</th>\n",
       "      <th>hq</th>\n",
       "      <th>included</th>\n",
       "      <th>Founded</th>\n",
       "    </tr>\n",
       "  </thead>\n",
       "  <tbody>\n",
       "    <tr>\n",
       "      <th>71</th>\n",
       "      <td>BK</td>\n",
       "      <td>BNY Mellon</td>\n",
       "      <td>Financials</td>\n",
       "      <td>New York City, New York</td>\n",
       "      <td>1995-03-31</td>\n",
       "      <td>1784</td>\n",
       "    </tr>\n",
       "  </tbody>\n",
       "</table>\n",
       "</div>"
      ],
      "text/plain": [
       "   Symbol    Security GICS_Sector                       hq   included Founded\n",
       "71     BK  BNY Mellon  Financials  New York City, New York 1995-03-31    1784"
      ]
     },
     "execution_count": 59,
     "metadata": {},
     "output_type": "execute_result"
    }
   ],
   "source": [
    "# Oldest -> BNY Mellon\n",
    "min_date = SP_data_cleaned[\"Founded\"].min()\n",
    "\n",
    "SP_data_cleaned[SP_data_cleaned[\"Founded\"] == min_date]"
   ]
  },
  {
   "cell_type": "code",
   "execution_count": 60,
   "id": "c9b1932f",
   "metadata": {},
   "outputs": [
    {
     "data": {
      "text/html": [
       "<div>\n",
       "<style scoped>\n",
       "    .dataframe tbody tr th:only-of-type {\n",
       "        vertical-align: middle;\n",
       "    }\n",
       "\n",
       "    .dataframe tbody tr th {\n",
       "        vertical-align: top;\n",
       "    }\n",
       "\n",
       "    .dataframe thead th {\n",
       "        text-align: right;\n",
       "    }\n",
       "</style>\n",
       "<table border=\"1\" class=\"dataframe\">\n",
       "  <thead>\n",
       "    <tr style=\"text-align: right;\">\n",
       "      <th></th>\n",
       "      <th>Symbol</th>\n",
       "      <th>Security</th>\n",
       "      <th>GICS_Sector</th>\n",
       "      <th>hq</th>\n",
       "      <th>included</th>\n",
       "      <th>Founded</th>\n",
       "    </tr>\n",
       "  </thead>\n",
       "  <tbody>\n",
       "    <tr>\n",
       "      <th>481</th>\n",
       "      <td>WBD</td>\n",
       "      <td>Warner Bros. Discovery</td>\n",
       "      <td>Communication Services</td>\n",
       "      <td>New York City, New York</td>\n",
       "      <td>2022-04-11</td>\n",
       "      <td>2022</td>\n",
       "    </tr>\n",
       "  </tbody>\n",
       "</table>\n",
       "</div>"
      ],
      "text/plain": [
       "    Symbol                Security             GICS_Sector  \\\n",
       "481    WBD  Warner Bros. Discovery  Communication Services   \n",
       "\n",
       "                          hq   included Founded  \n",
       "481  New York City, New York 2022-04-11    2022  "
      ]
     },
     "execution_count": 60,
     "metadata": {},
     "output_type": "execute_result"
    }
   ],
   "source": [
    "# Youngest -> Warner Bros. Discovery\n",
    "max_date = SP_data_cleaned[\"Founded\"].max()\n",
    "\n",
    "SP_data_cleaned[SP_data_cleaned[\"Founded\"] == max_date]"
   ]
  },
  {
   "cell_type": "code",
   "execution_count": 70,
   "id": "965e97cf",
   "metadata": {},
   "outputs": [],
   "source": [
    "# Convert Founded date to integer\n",
    "SP_data_cleaned[\"Founded\"] = pd.to_numeric(SP_data_cleaned[\"Founded\"])"
   ]
  },
  {
   "cell_type": "code",
   "execution_count": 71,
   "id": "15360c5c",
   "metadata": {},
   "outputs": [
    {
     "data": {
      "text/html": [
       "<div>\n",
       "<style scoped>\n",
       "    .dataframe tbody tr th:only-of-type {\n",
       "        vertical-align: middle;\n",
       "    }\n",
       "\n",
       "    .dataframe tbody tr th {\n",
       "        vertical-align: top;\n",
       "    }\n",
       "\n",
       "    .dataframe thead th {\n",
       "        text-align: right;\n",
       "    }\n",
       "</style>\n",
       "<table border=\"1\" class=\"dataframe\">\n",
       "  <thead>\n",
       "    <tr style=\"text-align: right;\">\n",
       "      <th></th>\n",
       "      <th>Symbol</th>\n",
       "      <th>Security</th>\n",
       "      <th>GICS_Sector</th>\n",
       "      <th>hq</th>\n",
       "      <th>included</th>\n",
       "      <th>Founded</th>\n",
       "      <th>age</th>\n",
       "    </tr>\n",
       "  </thead>\n",
       "  <tbody>\n",
       "    <tr>\n",
       "      <th>0</th>\n",
       "      <td>MMM</td>\n",
       "      <td>3M</td>\n",
       "      <td>Industrials</td>\n",
       "      <td>Saint Paul, Minnesota</td>\n",
       "      <td>1976-08-09</td>\n",
       "      <td>1902.0</td>\n",
       "      <td>121.0</td>\n",
       "    </tr>\n",
       "    <tr>\n",
       "      <th>1</th>\n",
       "      <td>AOS</td>\n",
       "      <td>A. O. Smith</td>\n",
       "      <td>Industrials</td>\n",
       "      <td>Milwaukee, Wisconsin</td>\n",
       "      <td>2017-07-26</td>\n",
       "      <td>1916.0</td>\n",
       "      <td>107.0</td>\n",
       "    </tr>\n",
       "    <tr>\n",
       "      <th>2</th>\n",
       "      <td>ABT</td>\n",
       "      <td>Abbott</td>\n",
       "      <td>Health Care</td>\n",
       "      <td>North Chicago, Illinois</td>\n",
       "      <td>1964-03-31</td>\n",
       "      <td>1888.0</td>\n",
       "      <td>135.0</td>\n",
       "    </tr>\n",
       "    <tr>\n",
       "      <th>3</th>\n",
       "      <td>ABBV</td>\n",
       "      <td>AbbVie</td>\n",
       "      <td>Health Care</td>\n",
       "      <td>North Chicago, Illinois</td>\n",
       "      <td>2012-12-31</td>\n",
       "      <td>NaN</td>\n",
       "      <td>NaN</td>\n",
       "    </tr>\n",
       "    <tr>\n",
       "      <th>4</th>\n",
       "      <td>ABMD</td>\n",
       "      <td>Abiomed</td>\n",
       "      <td>Health Care</td>\n",
       "      <td>Danvers, Massachusetts</td>\n",
       "      <td>2018-05-31</td>\n",
       "      <td>1981.0</td>\n",
       "      <td>42.0</td>\n",
       "    </tr>\n",
       "  </tbody>\n",
       "</table>\n",
       "</div>"
      ],
      "text/plain": [
       "  Symbol     Security  GICS_Sector                       hq   included  \\\n",
       "0    MMM           3M  Industrials    Saint Paul, Minnesota 1976-08-09   \n",
       "1    AOS  A. O. Smith  Industrials     Milwaukee, Wisconsin 2017-07-26   \n",
       "2    ABT       Abbott  Health Care  North Chicago, Illinois 1964-03-31   \n",
       "3   ABBV       AbbVie  Health Care  North Chicago, Illinois 2012-12-31   \n",
       "4   ABMD      Abiomed  Health Care   Danvers, Massachusetts 2018-05-31   \n",
       "\n",
       "   Founded    age  \n",
       "0   1902.0  121.0  \n",
       "1   1916.0  107.0  \n",
       "2   1888.0  135.0  \n",
       "3      NaN    NaN  \n",
       "4   1981.0   42.0  "
      ]
     },
     "execution_count": 71,
     "metadata": {},
     "output_type": "execute_result"
    }
   ],
   "source": [
    "# Add an age column in years\n",
    "SP_data_cleaned[\"age\"] = 2023 - SP_data_cleaned[\"Founded\"]\n",
    "\n",
    "SP_data_cleaned.head(5)\n"
   ]
  },
  {
   "cell_type": "code",
   "execution_count": null,
   "id": "c7a72c10",
   "metadata": {},
   "outputs": [],
   "source": [
    "# parse Hq column "
   ]
  },
  {
   "cell_type": "code",
   "execution_count": 74,
   "id": "e03cd242",
   "metadata": {},
   "outputs": [
    {
     "data": {
      "text/plain": [
       "68"
      ]
     },
     "execution_count": 74,
     "metadata": {},
     "output_type": "execute_result"
    }
   ],
   "source": [
    "# Average age of Founded -> 68 years\n",
    "int(SP_data_cleaned[\"age\"].mean())"
   ]
  },
  {
   "cell_type": "markdown",
   "id": "fbe40a20",
   "metadata": {},
   "source": [
    "### 5. Join the datasets"
   ]
  },
  {
   "cell_type": "code",
   "execution_count": 76,
   "id": "6ae514a7",
   "metadata": {},
   "outputs": [
    {
     "data": {
      "text/html": [
       "<div>\n",
       "<style scoped>\n",
       "    .dataframe tbody tr th:only-of-type {\n",
       "        vertical-align: middle;\n",
       "    }\n",
       "\n",
       "    .dataframe tbody tr th {\n",
       "        vertical-align: top;\n",
       "    }\n",
       "\n",
       "    .dataframe thead th {\n",
       "        text-align: right;\n",
       "    }\n",
       "</style>\n",
       "<table border=\"1\" class=\"dataframe\">\n",
       "  <thead>\n",
       "    <tr style=\"text-align: right;\">\n",
       "      <th></th>\n",
       "      <th>Symbol</th>\n",
       "      <th>subindustry</th>\n",
       "    </tr>\n",
       "  </thead>\n",
       "  <tbody>\n",
       "    <tr>\n",
       "      <th>0</th>\n",
       "      <td>MMM</td>\n",
       "      <td>Industrial Conglomerates</td>\n",
       "    </tr>\n",
       "    <tr>\n",
       "      <th>1</th>\n",
       "      <td>AOS</td>\n",
       "      <td>Building Products</td>\n",
       "    </tr>\n",
       "    <tr>\n",
       "      <th>2</th>\n",
       "      <td>ABT</td>\n",
       "      <td>Health Care Equipment</td>\n",
       "    </tr>\n",
       "    <tr>\n",
       "      <th>3</th>\n",
       "      <td>ABBV</td>\n",
       "      <td>Pharmaceuticals</td>\n",
       "    </tr>\n",
       "    <tr>\n",
       "      <th>4</th>\n",
       "      <td>ABMD</td>\n",
       "      <td>Health Care Equipment</td>\n",
       "    </tr>\n",
       "  </tbody>\n",
       "</table>\n",
       "</div>"
      ],
      "text/plain": [
       "  Symbol               subindustry\n",
       "0    MMM  Industrial Conglomerates\n",
       "1    AOS         Building Products\n",
       "2    ABT     Health Care Equipment\n",
       "3   ABBV           Pharmaceuticals\n",
       "4   ABMD     Health Care Equipment"
      ]
     },
     "execution_count": 76,
     "metadata": {},
     "output_type": "execute_result"
    }
   ],
   "source": [
    "companies_df = pd.read_csv(\"https://ies-python-midterm.s3.eu-central-1.amazonaws.com/companies/companies_subindustry.csv\")\n",
    "\n",
    "companies_df.head(5)"
   ]
  },
  {
   "cell_type": "code",
   "execution_count": 79,
   "id": "3564548e",
   "metadata": {},
   "outputs": [
    {
     "data": {
      "text/html": [
       "<div>\n",
       "<style scoped>\n",
       "    .dataframe tbody tr th:only-of-type {\n",
       "        vertical-align: middle;\n",
       "    }\n",
       "\n",
       "    .dataframe tbody tr th {\n",
       "        vertical-align: top;\n",
       "    }\n",
       "\n",
       "    .dataframe thead th {\n",
       "        text-align: right;\n",
       "    }\n",
       "</style>\n",
       "<table border=\"1\" class=\"dataframe\">\n",
       "  <thead>\n",
       "    <tr style=\"text-align: right;\">\n",
       "      <th></th>\n",
       "      <th>Symbol</th>\n",
       "      <th>subindustry</th>\n",
       "      <th>Security</th>\n",
       "      <th>GICS_Sector</th>\n",
       "      <th>hq</th>\n",
       "      <th>included</th>\n",
       "      <th>Founded</th>\n",
       "      <th>age</th>\n",
       "    </tr>\n",
       "  </thead>\n",
       "  <tbody>\n",
       "    <tr>\n",
       "      <th>0</th>\n",
       "      <td>MMM</td>\n",
       "      <td>Industrial Conglomerates</td>\n",
       "      <td>3M</td>\n",
       "      <td>Industrials</td>\n",
       "      <td>Saint Paul, Minnesota</td>\n",
       "      <td>1976-08-09</td>\n",
       "      <td>1902.0</td>\n",
       "      <td>121.0</td>\n",
       "    </tr>\n",
       "    <tr>\n",
       "      <th>1</th>\n",
       "      <td>AOS</td>\n",
       "      <td>Building Products</td>\n",
       "      <td>A. O. Smith</td>\n",
       "      <td>Industrials</td>\n",
       "      <td>Milwaukee, Wisconsin</td>\n",
       "      <td>2017-07-26</td>\n",
       "      <td>1916.0</td>\n",
       "      <td>107.0</td>\n",
       "    </tr>\n",
       "    <tr>\n",
       "      <th>2</th>\n",
       "      <td>ABT</td>\n",
       "      <td>Health Care Equipment</td>\n",
       "      <td>Abbott</td>\n",
       "      <td>Health Care</td>\n",
       "      <td>North Chicago, Illinois</td>\n",
       "      <td>1964-03-31</td>\n",
       "      <td>1888.0</td>\n",
       "      <td>135.0</td>\n",
       "    </tr>\n",
       "    <tr>\n",
       "      <th>3</th>\n",
       "      <td>ABBV</td>\n",
       "      <td>Pharmaceuticals</td>\n",
       "      <td>AbbVie</td>\n",
       "      <td>Health Care</td>\n",
       "      <td>North Chicago, Illinois</td>\n",
       "      <td>2012-12-31</td>\n",
       "      <td>NaN</td>\n",
       "      <td>NaN</td>\n",
       "    </tr>\n",
       "    <tr>\n",
       "      <th>4</th>\n",
       "      <td>ABMD</td>\n",
       "      <td>Health Care Equipment</td>\n",
       "      <td>Abiomed</td>\n",
       "      <td>Health Care</td>\n",
       "      <td>Danvers, Massachusetts</td>\n",
       "      <td>2018-05-31</td>\n",
       "      <td>1981.0</td>\n",
       "      <td>42.0</td>\n",
       "    </tr>\n",
       "  </tbody>\n",
       "</table>\n",
       "</div>"
      ],
      "text/plain": [
       "  Symbol               subindustry     Security  GICS_Sector  \\\n",
       "0    MMM  Industrial Conglomerates           3M  Industrials   \n",
       "1    AOS         Building Products  A. O. Smith  Industrials   \n",
       "2    ABT     Health Care Equipment       Abbott  Health Care   \n",
       "3   ABBV           Pharmaceuticals       AbbVie  Health Care   \n",
       "4   ABMD     Health Care Equipment      Abiomed  Health Care   \n",
       "\n",
       "                        hq   included  Founded    age  \n",
       "0    Saint Paul, Minnesota 1976-08-09   1902.0  121.0  \n",
       "1     Milwaukee, Wisconsin 2017-07-26   1916.0  107.0  \n",
       "2  North Chicago, Illinois 1964-03-31   1888.0  135.0  \n",
       "3  North Chicago, Illinois 2012-12-31      NaN    NaN  \n",
       "4   Danvers, Massachusetts 2018-05-31   1981.0   42.0  "
      ]
     },
     "execution_count": 79,
     "metadata": {},
     "output_type": "execute_result"
    }
   ],
   "source": [
    "# Join the data on Symbol\n",
    "joined_df = pd.merge(companies_df, SP_data_cleaned, how = \"inner\", on = \"Symbol\")\n",
    "\n",
    "joined_df.head(5)"
   ]
  },
  {
   "cell_type": "code",
   "execution_count": 82,
   "id": "56500b8c",
   "metadata": {},
   "outputs": [
    {
     "data": {
      "text/plain": [
       "subindustry\n",
       "Advertising                             2\n",
       "Aerospace & Defense                    10\n",
       "Agricultural & Farm Machinery           1\n",
       "Agricultural Products                   1\n",
       "Air Freight & Logistics                 4\n",
       "                                       ..\n",
       "Tobacco                                 2\n",
       "Trading Companies & Distributors        1\n",
       "Trucking                                2\n",
       "Water Utilities                         1\n",
       "Wireless Telecommunication Services     1\n",
       "Name: subindustry, Length: 122, dtype: int64"
      ]
     },
     "execution_count": 82,
     "metadata": {},
     "output_type": "execute_result"
    }
   ],
   "source": [
    "# subindustry distribution\n",
    "sub_ind = joined_df.groupby(\"subindustry\")[\"subindustry\"].count()"
   ]
  },
  {
   "cell_type": "code",
   "execution_count": 83,
   "id": "bebd11ec",
   "metadata": {},
   "outputs": [],
   "source": [
    "sub_ind = joined_df.groupby(\"subindustry\")[\"subindustry\"].count()"
   ]
  },
  {
   "cell_type": "code",
   "execution_count": 85,
   "id": "bcc24734",
   "metadata": {},
   "outputs": [
    {
     "data": {
      "text/plain": [
       "<function matplotlib.pyplot.show(close=None, block=None)>"
      ]
     },
     "execution_count": 85,
     "metadata": {},
     "output_type": "execute_result"
    },
    {
     "data": {
      "image/png": "[encoded data removed]",
      "text/plain": [
       "<Figure size 640x480 with 1 Axes>"
      ]
     },
     "metadata": {},
     "output_type": "display_data"
    }
   ],
   "source": [
    "# plot the distribution of subindustry\n",
    "plt.pie(sub_ind)\n",
    "plt.show"
   ]
  }
 ],
 "metadata": {
  "kernelspec": {
   "display_name": "Python 3 (ipykernel)",
   "language": "python",
   "name": "python3"
  },
  "language_info": {
   "codemirror_mode": {
    "name": "ipython",
    "version": 3
   },
   "file_extension": ".py",
   "mimetype": "text/x-python",
   "name": "python",
   "nbconvert_exporter": "python",
   "pygments_lexer": "ipython3",
   "version": "3.11.5"
  }
 },
 "nbformat": 4,
 "nbformat_minor": 5
}
